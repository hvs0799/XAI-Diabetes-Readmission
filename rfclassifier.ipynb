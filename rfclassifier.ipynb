{
 "cells": [
  {
   "cell_type": "code",
   "execution_count": 13,
   "id": "690f6935-df93-4e13-9f9d-4de421b56948",
   "metadata": {},
   "outputs": [
    {
     "name": "stdout",
     "output_type": "stream",
     "text": [
      "Accuracy: 0.8333333333333334\n",
      "\n",
      "Classification Report:\n",
      "               precision    recall  f1-score   support\n",
      "\n",
      "           0       0.86      0.96      0.91        52\n",
      "           1       0.00      0.00      0.00         8\n",
      "\n",
      "    accuracy                           0.83        60\n",
      "   macro avg       0.43      0.48      0.45        60\n",
      "weighted avg       0.75      0.83      0.79        60\n",
      "\n",
      "\n",
      "Confusion Matrix:\n",
      " [[50  2]\n",
      " [ 8  0]]\n"
     ]
    },
    {
     "data": {
      "image/png": "[encoded data removed]",
      "text/plain": [
       "<Figure size 1150x660 with 2 Axes>"
      ]
     },
     "metadata": {},
     "output_type": "display_data"
    }
   ],
   "source": [
    "import pandas as pd\n",
    "import numpy as np\n",
    "from sklearn.ensemble import RandomForestClassifier\n",
    "from sklearn.model_selection import train_test_split\n",
    "from sklearn.metrics import classification_report, accuracy_score, confusion_matrix\n",
    "from sklearn.preprocessing import LabelEncoder, StandardScaler\n",
    "import shap\n",
    "import matplotlib.pyplot as plt\n",
    "\n",
    "# --------------------------\n",
    "# 1. Load & preprocess data\n",
    "# --------------------------\n",
    "df = pd.read_csv(\"diabetic_data.csv\")\n",
    "\n",
    "# Drop unwanted columns\n",
    "df.drop(['encounter_id', 'patient_nbr', 'weight', 'payer_code', 'medical_specialty'], axis=1, inplace=True)\n",
    "df = df[df['gender'] != 'Unknown/Invalid']\n",
    "df.dropna(inplace=True)\n",
    "\n",
    "# Encode target: 1 for <30 (readmitted), else 0\n",
    "df['readmitted'] = df['readmitted'].apply(lambda x: 1 if x == '<30' else 0)\n",
    "\n",
    "# Encode categorical features\n",
    "for col in df.select_dtypes(include='object').columns:\n",
    "    df[col] = LabelEncoder().fit_transform(df[col])\n",
    "\n",
    "# Split features and target\n",
    "X = df.drop('readmitted', axis=1)\n",
    "y = df['readmitted']\n",
    "\n",
    "# Feature scaling\n",
    "scaler = StandardScaler()\n",
    "X_scaled = scaler.fit_transform(X)\n",
    "\n",
    "# DataFrames with column names\n",
    "X_df = pd.DataFrame(X_scaled, columns=X.columns)\n",
    "\n",
    "# --------------------------\n",
    "# 2. Train-test split\n",
    "# --------------------------\n",
    "X_train, X_test, y_train, y_test = train_test_split(X_df, y, test_size=0.2, random_state=42)\n",
    "\n",
    "# --------------------------\n",
    "# 3. Train Random Forest\n",
    "# --------------------------\n",
    "from imblearn.over_sampling import SMOTE\n",
    "\n",
    "smote = SMOTE(random_state=42)\n",
    "X_resampled, y_resampled = smote.fit_resample(X_train, y_train)\n",
    "\n",
    "# Train model on balanced data\n",
    "rf = RandomForestClassifier(n_estimators=100, random_state=42)\n",
    "rf.fit(X_resampled, y_resampled)\n",
    "\n",
    "# --------------------------\n",
    "# 4. Evaluate Model\n",
    "# --------------------------\n",
    "y_pred = rf.predict(X_test)\n",
    "\n",
    "print(\"Accuracy:\", accuracy_score(y_test, y_pred))\n",
    "print(\"\\nClassification Report:\\n\", classification_report(y_test, y_pred))\n",
    "print(\"\\nConfusion Matrix:\\n\", confusion_matrix(y_test, y_pred))\n",
    "\n",
    "# --------------------------\n",
    "# 5. SHAP Explainability\n",
    "# --------------------------\n",
    "# Create a sample for explanation\n",
    "sample_size = min(100, len(X_test))\n",
    "X_sample = X_test.sample(sample_size, random_state=42)\n",
    "\n",
    "# SHAP Explainer\n",
    "explainer = shap.Explainer(rf, X_sample)\n",
    "\n",
    "# Disable strict additivity check\n",
    "shap_values = explainer(X_sample, check_additivity=False)\n",
    "\n",
    "# Summary plot\n",
    "shap.summary_plot(shap_values, X_sample, feature_names=X.columns)"
   ]
  },
  {
   "cell_type": "code",
   "execution_count": 11,
   "id": "abbeefdf-7136-4d14-bb51-46a6e2fa1aa9",
   "metadata": {},
   "outputs": [
    {
     "name": "stdout",
     "output_type": "stream",
     "text": [
      "Class distribution:\n",
      " readmitted\n",
      "0    210\n",
      "1     28\n",
      "Name: count, dtype: int64\n"
     ]
    }
   ],
   "source": [
    "print(\"Class distribution:\\n\", y_train.value_counts())"
   ]
  },
  {
   "cell_type": "code",
   "execution_count": 15,
   "id": "3fd66b01-f168-44f1-b79a-389dceaa5a21",
   "metadata": {},
   "outputs": [
    {
     "name": "stdout",
     "output_type": "stream",
     "text": [
      "              precision    recall  f1-score   support\n",
      "\n",
      "           0       0.86      0.96      0.91        52\n",
      "           1       0.00      0.00      0.00         8\n",
      "\n",
      "    accuracy                           0.83        60\n",
      "   macro avg       0.43      0.48      0.45        60\n",
      "weighted avg       0.75      0.83      0.79        60\n",
      "\n"
     ]
    }
   ],
   "source": [
    "y_pred = rf.predict(X_test)\n",
    "print(classification_report(y_test, y_pred))"
   ]
  },
  {
   "cell_type": "code",
   "execution_count": null,
   "id": "09c6d922-f400-467b-8903-11b70a04ecad",
   "metadata": {},
   "outputs": [],
   "source": [
    "print(\"Unique predictions:\", np.unique(y_pred, return_counts=True))\n",
    "\n"
   ]
  }
 ],
 "metadata": {
  "kernelspec": {
   "display_name": "Python [conda env:base] *",
   "language": "python",
   "name": "conda-base-py"
  },
  "language_info": {
   "codemirror_mode": {
    "name": "ipython",
    "version": 3
   },
   "file_extension": ".py",
   "mimetype": "text/x-python",
   "name": "python",
   "nbconvert_exporter": "python",
   "pygments_lexer": "ipython3",
   "version": "3.12.7"
  }
 },
 "nbformat": 4,
 "nbformat_minor": 5
}
